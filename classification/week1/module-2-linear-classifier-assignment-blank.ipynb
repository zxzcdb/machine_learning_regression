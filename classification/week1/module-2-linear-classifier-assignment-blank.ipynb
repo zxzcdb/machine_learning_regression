<?xml version="1.0" encoding="UTF-8"?>
<!DOCTYPE plist PUBLIC "-//Apple//DTD PLIST 1.0//EN" "http://www.apple.com/DTDs/PropertyList-1.0.dtd">
<plist version="1.0">
<dict>
	<key>URL</key>
	<string>https://s3.amazonaws.com/static.dato.com/files/coursera/course-3/module-2-linear-classifier-assignment-blank.ipynb</string>
</dict>
</plist>
